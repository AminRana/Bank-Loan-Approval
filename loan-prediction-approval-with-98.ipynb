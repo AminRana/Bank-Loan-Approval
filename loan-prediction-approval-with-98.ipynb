{
 "cells": [
  {
   "cell_type": "code",
   "execution_count": 1,
   "id": "3621180d",
   "metadata": {
    "_cell_guid": "b1076dfc-b9ad-4769-8c92-a6c4dae69d19",
    "_uuid": "8f2839f25d086af736a60e9eeb907d3b93b6e0e5",
    "execution": {
     "iopub.execute_input": "2024-05-24T07:54:57.215868Z",
     "iopub.status.busy": "2024-05-24T07:54:57.214932Z",
     "iopub.status.idle": "2024-05-24T07:54:58.058938Z",
     "shell.execute_reply": "2024-05-24T07:54:58.057458Z"
    },
    "papermill": {
     "duration": 0.860232,
     "end_time": "2024-05-24T07:54:58.061895",
     "exception": false,
     "start_time": "2024-05-24T07:54:57.201663",
     "status": "completed"
    },
    "tags": []
   },
   "outputs": [
    {
     "name": "stdout",
     "output_type": "stream",
     "text": [
      "/kaggle/input/loan-approval-prediction-dataset/loan_approval_dataset.csv\n"
     ]
    }
   ],
   "source": [
    "# This Python 3 environment comes with many helpful analytics libraries installed\n",
    "# It is defined by the kaggle/python Docker image: https://github.com/kaggle/docker-python\n",
    "# For example, here's several helpful packages to load\n",
    "\n",
    "import numpy as np # linear algebra\n",
    "import pandas as pd # data processing, CSV file I/O (e.g. pd.read_csv)\n",
    "\n",
    "# Input data files are available in the read-only \"../input/\" directory\n",
    "# For example, running this (by clicking run or pressing Shift+Enter) will list all files under the input directory\n",
    "\n",
    "import os\n",
    "for dirname, _, filenames in os.walk('/kaggle/input'):\n",
    "    for filename in filenames:\n",
    "        print(os.path.join(dirname, filename))\n",
    "\n",
    "# You can write up to 20GB to the current directory (/kaggle/working/) that gets preserved as output when you create a version using \"Save & Run All\" \n",
    "# You can also write temporary files to /kaggle/temp/, but they won't be saved outside of the current session"
   ]
  },
  {
   "cell_type": "code",
   "execution_count": 2,
   "id": "f4f650e8",
   "metadata": {
    "execution": {
     "iopub.execute_input": "2024-05-24T07:54:58.084128Z",
     "iopub.status.busy": "2024-05-24T07:54:58.083614Z",
     "iopub.status.idle": "2024-05-24T07:54:59.290863Z",
     "shell.execute_reply": "2024-05-24T07:54:59.289858Z"
    },
    "papermill": {
     "duration": 1.221003,
     "end_time": "2024-05-24T07:54:59.293489",
     "exception": false,
     "start_time": "2024-05-24T07:54:58.072486",
     "status": "completed"
    },
    "tags": []
   },
   "outputs": [],
   "source": [
    "import matplotlib.pyplot as plt\n",
    "%matplotlib inline\n",
    "\n",
    "import seaborn as sns\n",
    "import math\n",
    "\n",
    "import warnings\n",
    "warnings.filterwarnings(\"ignore\")"
   ]
  },
  {
   "cell_type": "code",
   "execution_count": 3,
   "id": "89d77a67",
   "metadata": {
    "execution": {
     "iopub.execute_input": "2024-05-24T07:54:59.315266Z",
     "iopub.status.busy": "2024-05-24T07:54:59.314860Z",
     "iopub.status.idle": "2024-05-24T07:54:59.346131Z",
     "shell.execute_reply": "2024-05-24T07:54:59.345224Z"
    },
    "papermill": {
     "duration": 0.045121,
     "end_time": "2024-05-24T07:54:59.348763",
     "exception": false,
     "start_time": "2024-05-24T07:54:59.303642",
     "status": "completed"
    },
    "tags": []
   },
   "outputs": [],
   "source": [
    "data = pd.read_csv(\"/kaggle/input/loan-approval-prediction-dataset/loan_approval_dataset.csv\")"
   ]
  },
  {
   "cell_type": "code",
   "execution_count": 4,
   "id": "fccb81a4",
   "metadata": {
    "execution": {
     "iopub.execute_input": "2024-05-24T07:54:59.370263Z",
     "iopub.status.busy": "2024-05-24T07:54:59.369884Z",
     "iopub.status.idle": "2024-05-24T07:54:59.396345Z",
     "shell.execute_reply": "2024-05-24T07:54:59.395227Z"
    },
    "papermill": {
     "duration": 0.039626,
     "end_time": "2024-05-24T07:54:59.398576",
     "exception": false,
     "start_time": "2024-05-24T07:54:59.358950",
     "status": "completed"
    },
    "tags": []
   },
   "outputs": [
    {
     "data": {
      "text/html": [
       "<div>\n",
       "<style scoped>\n",
       "    .dataframe tbody tr th:only-of-type {\n",
       "        vertical-align: middle;\n",
       "    }\n",
       "\n",
       "    .dataframe tbody tr th {\n",
       "        vertical-align: top;\n",
       "    }\n",
       "\n",
       "    .dataframe thead th {\n",
       "        text-align: right;\n",
       "    }\n",
       "</style>\n",
       "<table border=\"1\" class=\"dataframe\">\n",
       "  <thead>\n",
       "    <tr style=\"text-align: right;\">\n",
       "      <th></th>\n",
       "      <th>loan_id</th>\n",
       "      <th>no_of_dependents</th>\n",
       "      <th>education</th>\n",
       "      <th>self_employed</th>\n",
       "      <th>income_annum</th>\n",
       "      <th>loan_amount</th>\n",
       "      <th>loan_term</th>\n",
       "      <th>cibil_score</th>\n",
       "      <th>residential_assets_value</th>\n",
       "      <th>commercial_assets_value</th>\n",
       "      <th>luxury_assets_value</th>\n",
       "      <th>bank_asset_value</th>\n",
       "      <th>loan_status</th>\n",
       "    </tr>\n",
       "  </thead>\n",
       "  <tbody>\n",
       "    <tr>\n",
       "      <th>0</th>\n",
       "      <td>1</td>\n",
       "      <td>2</td>\n",
       "      <td>Graduate</td>\n",
       "      <td>No</td>\n",
       "      <td>9600000</td>\n",
       "      <td>29900000</td>\n",
       "      <td>12</td>\n",
       "      <td>778</td>\n",
       "      <td>2400000</td>\n",
       "      <td>17600000</td>\n",
       "      <td>22700000</td>\n",
       "      <td>8000000</td>\n",
       "      <td>Approved</td>\n",
       "    </tr>\n",
       "    <tr>\n",
       "      <th>1</th>\n",
       "      <td>2</td>\n",
       "      <td>0</td>\n",
       "      <td>Not Graduate</td>\n",
       "      <td>Yes</td>\n",
       "      <td>4100000</td>\n",
       "      <td>12200000</td>\n",
       "      <td>8</td>\n",
       "      <td>417</td>\n",
       "      <td>2700000</td>\n",
       "      <td>2200000</td>\n",
       "      <td>8800000</td>\n",
       "      <td>3300000</td>\n",
       "      <td>Rejected</td>\n",
       "    </tr>\n",
       "    <tr>\n",
       "      <th>2</th>\n",
       "      <td>3</td>\n",
       "      <td>3</td>\n",
       "      <td>Graduate</td>\n",
       "      <td>No</td>\n",
       "      <td>9100000</td>\n",
       "      <td>29700000</td>\n",
       "      <td>20</td>\n",
       "      <td>506</td>\n",
       "      <td>7100000</td>\n",
       "      <td>4500000</td>\n",
       "      <td>33300000</td>\n",
       "      <td>12800000</td>\n",
       "      <td>Rejected</td>\n",
       "    </tr>\n",
       "    <tr>\n",
       "      <th>3</th>\n",
       "      <td>4</td>\n",
       "      <td>3</td>\n",
       "      <td>Graduate</td>\n",
       "      <td>No</td>\n",
       "      <td>8200000</td>\n",
       "      <td>30700000</td>\n",
       "      <td>8</td>\n",
       "      <td>467</td>\n",
       "      <td>18200000</td>\n",
       "      <td>3300000</td>\n",
       "      <td>23300000</td>\n",
       "      <td>7900000</td>\n",
       "      <td>Rejected</td>\n",
       "    </tr>\n",
       "    <tr>\n",
       "      <th>4</th>\n",
       "      <td>5</td>\n",
       "      <td>5</td>\n",
       "      <td>Not Graduate</td>\n",
       "      <td>Yes</td>\n",
       "      <td>9800000</td>\n",
       "      <td>24200000</td>\n",
       "      <td>20</td>\n",
       "      <td>382</td>\n",
       "      <td>12400000</td>\n",
       "      <td>8200000</td>\n",
       "      <td>29400000</td>\n",
       "      <td>5000000</td>\n",
       "      <td>Rejected</td>\n",
       "    </tr>\n",
       "  </tbody>\n",
       "</table>\n",
       "</div>"
      ],
      "text/plain": [
       "   loan_id   no_of_dependents      education  self_employed   income_annum  \\\n",
       "0        1                  2       Graduate             No        9600000   \n",
       "1        2                  0   Not Graduate            Yes        4100000   \n",
       "2        3                  3       Graduate             No        9100000   \n",
       "3        4                  3       Graduate             No        8200000   \n",
       "4        5                  5   Not Graduate            Yes        9800000   \n",
       "\n",
       "    loan_amount   loan_term   cibil_score   residential_assets_value  \\\n",
       "0      29900000          12           778                    2400000   \n",
       "1      12200000           8           417                    2700000   \n",
       "2      29700000          20           506                    7100000   \n",
       "3      30700000           8           467                   18200000   \n",
       "4      24200000          20           382                   12400000   \n",
       "\n",
       "    commercial_assets_value   luxury_assets_value   bank_asset_value  \\\n",
       "0                  17600000              22700000            8000000   \n",
       "1                   2200000               8800000            3300000   \n",
       "2                   4500000              33300000           12800000   \n",
       "3                   3300000              23300000            7900000   \n",
       "4                   8200000              29400000            5000000   \n",
       "\n",
       "   loan_status  \n",
       "0     Approved  \n",
       "1     Rejected  \n",
       "2     Rejected  \n",
       "3     Rejected  \n",
       "4     Rejected  "
      ]
     },
     "execution_count": 4,
     "metadata": {},
     "output_type": "execute_result"
    }
   ],
   "source": [
    "data.head()"
   ]
  },
  {
   "cell_type": "code",
   "execution_count": 5,
   "id": "0df4bdfd",
   "metadata": {
    "execution": {
     "iopub.execute_input": "2024-05-24T07:54:59.420938Z",
     "iopub.status.busy": "2024-05-24T07:54:59.420570Z",
     "iopub.status.idle": "2024-05-24T07:54:59.430464Z",
     "shell.execute_reply": "2024-05-24T07:54:59.429568Z"
    },
    "papermill": {
     "duration": 0.024071,
     "end_time": "2024-05-24T07:54:59.432811",
     "exception": false,
     "start_time": "2024-05-24T07:54:59.408740",
     "status": "completed"
    },
    "tags": []
   },
   "outputs": [],
   "source": [
    "data = data.drop([\"loan_id\"], axis=1)"
   ]
  },
  {
   "cell_type": "code",
   "execution_count": 6,
   "id": "340b32ba",
   "metadata": {
    "execution": {
     "iopub.execute_input": "2024-05-24T07:54:59.455108Z",
     "iopub.status.busy": "2024-05-24T07:54:59.454748Z",
     "iopub.status.idle": "2024-05-24T07:54:59.461394Z",
     "shell.execute_reply": "2024-05-24T07:54:59.460368Z"
    },
    "papermill": {
     "duration": 0.02043,
     "end_time": "2024-05-24T07:54:59.463683",
     "exception": false,
     "start_time": "2024-05-24T07:54:59.443253",
     "status": "completed"
    },
    "tags": []
   },
   "outputs": [
    {
     "data": {
      "text/plain": [
       "(4269, 12)"
      ]
     },
     "execution_count": 6,
     "metadata": {},
     "output_type": "execute_result"
    }
   ],
   "source": [
    "data.shape"
   ]
  },
  {
   "cell_type": "code",
   "execution_count": 7,
   "id": "35cd7c38",
   "metadata": {
    "execution": {
     "iopub.execute_input": "2024-05-24T07:54:59.487299Z",
     "iopub.status.busy": "2024-05-24T07:54:59.486892Z",
     "iopub.status.idle": "2024-05-24T07:54:59.508899Z",
     "shell.execute_reply": "2024-05-24T07:54:59.507851Z"
    },
    "papermill": {
     "duration": 0.03609,
     "end_time": "2024-05-24T07:54:59.511402",
     "exception": false,
     "start_time": "2024-05-24T07:54:59.475312",
     "status": "completed"
    },
    "tags": []
   },
   "outputs": [
    {
     "name": "stdout",
     "output_type": "stream",
     "text": [
      "<class 'pandas.core.frame.DataFrame'>\n",
      "RangeIndex: 4269 entries, 0 to 4268\n",
      "Data columns (total 12 columns):\n",
      " #   Column                     Non-Null Count  Dtype \n",
      "---  ------                     --------------  ----- \n",
      " 0    no_of_dependents          4269 non-null   int64 \n",
      " 1    education                 4269 non-null   object\n",
      " 2    self_employed             4269 non-null   object\n",
      " 3    income_annum              4269 non-null   int64 \n",
      " 4    loan_amount               4269 non-null   int64 \n",
      " 5    loan_term                 4269 non-null   int64 \n",
      " 6    cibil_score               4269 non-null   int64 \n",
      " 7    residential_assets_value  4269 non-null   int64 \n",
      " 8    commercial_assets_value   4269 non-null   int64 \n",
      " 9    luxury_assets_value       4269 non-null   int64 \n",
      " 10   bank_asset_value          4269 non-null   int64 \n",
      " 11   loan_status               4269 non-null   object\n",
      "dtypes: int64(9), object(3)\n",
      "memory usage: 400.3+ KB\n"
     ]
    }
   ],
   "source": [
    "data.info()"
   ]
  },
  {
   "cell_type": "markdown",
   "id": "56b98494",
   "metadata": {
    "papermill": {
     "duration": 0.010148,
     "end_time": "2024-05-24T07:54:59.532084",
     "exception": false,
     "start_time": "2024-05-24T07:54:59.521936",
     "status": "completed"
    },
    "tags": []
   },
   "source": [
    "### Encoding the categorical features"
   ]
  },
  {
   "cell_type": "code",
   "execution_count": 8,
   "id": "43c62c98",
   "metadata": {
    "execution": {
     "iopub.execute_input": "2024-05-24T07:54:59.554805Z",
     "iopub.status.busy": "2024-05-24T07:54:59.554404Z",
     "iopub.status.idle": "2024-05-24T07:54:59.775127Z",
     "shell.execute_reply": "2024-05-24T07:54:59.774190Z"
    },
    "papermill": {
     "duration": 0.235405,
     "end_time": "2024-05-24T07:54:59.777912",
     "exception": false,
     "start_time": "2024-05-24T07:54:59.542507",
     "status": "completed"
    },
    "tags": []
   },
   "outputs": [],
   "source": [
    "#from sklearn.preprocessing import LabelEncoder\n",
    "from sklearn.preprocessing import LabelEncoder\n",
    "le = LabelEncoder()\n",
    "\n",
    "data[\" education\"] = le.fit_transform(data[\" education\"])\n",
    "data[\" self_employed\"] = le.fit_transform(data[\" self_employed\"])\n",
    "data[\" loan_status\"] = le.fit_transform(data[\" loan_status\"])"
   ]
  },
  {
   "cell_type": "code",
   "execution_count": 9,
   "id": "188f6c44",
   "metadata": {
    "execution": {
     "iopub.execute_input": "2024-05-24T07:54:59.801029Z",
     "iopub.status.busy": "2024-05-24T07:54:59.800625Z",
     "iopub.status.idle": "2024-05-24T07:54:59.815293Z",
     "shell.execute_reply": "2024-05-24T07:54:59.814231Z"
    },
    "papermill": {
     "duration": 0.029035,
     "end_time": "2024-05-24T07:54:59.817722",
     "exception": false,
     "start_time": "2024-05-24T07:54:59.788687",
     "status": "completed"
    },
    "tags": []
   },
   "outputs": [
    {
     "data": {
      "text/html": [
       "<div>\n",
       "<style scoped>\n",
       "    .dataframe tbody tr th:only-of-type {\n",
       "        vertical-align: middle;\n",
       "    }\n",
       "\n",
       "    .dataframe tbody tr th {\n",
       "        vertical-align: top;\n",
       "    }\n",
       "\n",
       "    .dataframe thead th {\n",
       "        text-align: right;\n",
       "    }\n",
       "</style>\n",
       "<table border=\"1\" class=\"dataframe\">\n",
       "  <thead>\n",
       "    <tr style=\"text-align: right;\">\n",
       "      <th></th>\n",
       "      <th>no_of_dependents</th>\n",
       "      <th>education</th>\n",
       "      <th>self_employed</th>\n",
       "      <th>income_annum</th>\n",
       "      <th>loan_amount</th>\n",
       "      <th>loan_term</th>\n",
       "      <th>cibil_score</th>\n",
       "      <th>residential_assets_value</th>\n",
       "      <th>commercial_assets_value</th>\n",
       "      <th>luxury_assets_value</th>\n",
       "      <th>bank_asset_value</th>\n",
       "      <th>loan_status</th>\n",
       "    </tr>\n",
       "  </thead>\n",
       "  <tbody>\n",
       "    <tr>\n",
       "      <th>0</th>\n",
       "      <td>2</td>\n",
       "      <td>0</td>\n",
       "      <td>0</td>\n",
       "      <td>9600000</td>\n",
       "      <td>29900000</td>\n",
       "      <td>12</td>\n",
       "      <td>778</td>\n",
       "      <td>2400000</td>\n",
       "      <td>17600000</td>\n",
       "      <td>22700000</td>\n",
       "      <td>8000000</td>\n",
       "      <td>0</td>\n",
       "    </tr>\n",
       "    <tr>\n",
       "      <th>1</th>\n",
       "      <td>0</td>\n",
       "      <td>1</td>\n",
       "      <td>1</td>\n",
       "      <td>4100000</td>\n",
       "      <td>12200000</td>\n",
       "      <td>8</td>\n",
       "      <td>417</td>\n",
       "      <td>2700000</td>\n",
       "      <td>2200000</td>\n",
       "      <td>8800000</td>\n",
       "      <td>3300000</td>\n",
       "      <td>1</td>\n",
       "    </tr>\n",
       "    <tr>\n",
       "      <th>2</th>\n",
       "      <td>3</td>\n",
       "      <td>0</td>\n",
       "      <td>0</td>\n",
       "      <td>9100000</td>\n",
       "      <td>29700000</td>\n",
       "      <td>20</td>\n",
       "      <td>506</td>\n",
       "      <td>7100000</td>\n",
       "      <td>4500000</td>\n",
       "      <td>33300000</td>\n",
       "      <td>12800000</td>\n",
       "      <td>1</td>\n",
       "    </tr>\n",
       "    <tr>\n",
       "      <th>3</th>\n",
       "      <td>3</td>\n",
       "      <td>0</td>\n",
       "      <td>0</td>\n",
       "      <td>8200000</td>\n",
       "      <td>30700000</td>\n",
       "      <td>8</td>\n",
       "      <td>467</td>\n",
       "      <td>18200000</td>\n",
       "      <td>3300000</td>\n",
       "      <td>23300000</td>\n",
       "      <td>7900000</td>\n",
       "      <td>1</td>\n",
       "    </tr>\n",
       "    <tr>\n",
       "      <th>4</th>\n",
       "      <td>5</td>\n",
       "      <td>1</td>\n",
       "      <td>1</td>\n",
       "      <td>9800000</td>\n",
       "      <td>24200000</td>\n",
       "      <td>20</td>\n",
       "      <td>382</td>\n",
       "      <td>12400000</td>\n",
       "      <td>8200000</td>\n",
       "      <td>29400000</td>\n",
       "      <td>5000000</td>\n",
       "      <td>1</td>\n",
       "    </tr>\n",
       "  </tbody>\n",
       "</table>\n",
       "</div>"
      ],
      "text/plain": [
       "   no_of_dependents  education  self_employed  income_annum  loan_amount  \\\n",
       "0                 2          0              0       9600000     29900000   \n",
       "1                 0          1              1       4100000     12200000   \n",
       "2                 3          0              0       9100000     29700000   \n",
       "3                 3          0              0       8200000     30700000   \n",
       "4                 5          1              1       9800000     24200000   \n",
       "\n",
       "   loan_term  cibil_score  residential_assets_value  commercial_assets_value  \\\n",
       "0         12          778                   2400000                 17600000   \n",
       "1          8          417                   2700000                  2200000   \n",
       "2         20          506                   7100000                  4500000   \n",
       "3          8          467                  18200000                  3300000   \n",
       "4         20          382                  12400000                  8200000   \n",
       "\n",
       "   luxury_assets_value  bank_asset_value  loan_status  \n",
       "0             22700000           8000000            0  \n",
       "1              8800000           3300000            1  \n",
       "2             33300000          12800000            1  \n",
       "3             23300000           7900000            1  \n",
       "4             29400000           5000000            1  "
      ]
     },
     "execution_count": 9,
     "metadata": {},
     "output_type": "execute_result"
    }
   ],
   "source": [
    "data.head()"
   ]
  },
  {
   "cell_type": "code",
   "execution_count": 10,
   "id": "9c0aa25e",
   "metadata": {
    "execution": {
     "iopub.execute_input": "2024-05-24T07:54:59.841623Z",
     "iopub.status.busy": "2024-05-24T07:54:59.841171Z",
     "iopub.status.idle": "2024-05-24T07:54:59.997620Z",
     "shell.execute_reply": "2024-05-24T07:54:59.996442Z"
    },
    "papermill": {
     "duration": 0.171292,
     "end_time": "2024-05-24T07:55:00.000045",
     "exception": false,
     "start_time": "2024-05-24T07:54:59.828753",
     "status": "completed"
    },
    "tags": []
   },
   "outputs": [
    {
     "data": {
      "text/html": [
       "<style type=\"text/css\">\n",
       "#T_9f489_row0_col0, #T_9f489_row0_col1, #T_9f489_row0_col2, #T_9f489_row0_col5, #T_9f489_row0_col6, #T_9f489_row0_col11, #T_9f489_row7_col3, #T_9f489_row7_col4, #T_9f489_row7_col7, #T_9f489_row7_col8, #T_9f489_row7_col9, #T_9f489_row7_col10 {\n",
       "  background-color: #08306b;\n",
       "  color: #f1f1f1;\n",
       "}\n",
       "#T_9f489_row0_col3, #T_9f489_row0_col4, #T_9f489_row0_col7, #T_9f489_row0_col8, #T_9f489_row0_col9, #T_9f489_row0_col10, #T_9f489_row1_col0, #T_9f489_row1_col1, #T_9f489_row1_col2, #T_9f489_row1_col5, #T_9f489_row1_col11, #T_9f489_row2_col0, #T_9f489_row2_col1, #T_9f489_row2_col2, #T_9f489_row2_col5, #T_9f489_row2_col6, #T_9f489_row2_col11, #T_9f489_row3_col0, #T_9f489_row3_col1, #T_9f489_row3_col2, #T_9f489_row3_col5, #T_9f489_row3_col7, #T_9f489_row3_col8, #T_9f489_row3_col10, #T_9f489_row3_col11, #T_9f489_row4_col0, #T_9f489_row4_col1, #T_9f489_row4_col2, #T_9f489_row4_col5, #T_9f489_row4_col11, #T_9f489_row5_col0, #T_9f489_row5_col1, #T_9f489_row5_col2, #T_9f489_row5_col5, #T_9f489_row5_col11, #T_9f489_row6_col0, #T_9f489_row6_col1, #T_9f489_row6_col2, #T_9f489_row6_col5, #T_9f489_row6_col11, #T_9f489_row7_col0, #T_9f489_row7_col1, #T_9f489_row7_col2, #T_9f489_row7_col11 {\n",
       "  background-color: #f7fbff;\n",
       "  color: #000000;\n",
       "}\n",
       "#T_9f489_row1_col3 {\n",
       "  background-color: #68acd5;\n",
       "  color: #f1f1f1;\n",
       "}\n",
       "#T_9f489_row1_col4, #T_9f489_row1_col9 {\n",
       "  background-color: #9ac8e0;\n",
       "  color: #000000;\n",
       "}\n",
       "#T_9f489_row1_col6, #T_9f489_row5_col6 {\n",
       "  background-color: #e3eef8;\n",
       "  color: #000000;\n",
       "}\n",
       "#T_9f489_row1_col7 {\n",
       "  background-color: #c3daee;\n",
       "  color: #000000;\n",
       "}\n",
       "#T_9f489_row1_col8 {\n",
       "  background-color: #c4daee;\n",
       "  color: #000000;\n",
       "}\n",
       "#T_9f489_row1_col10 {\n",
       "  background-color: #aacfe5;\n",
       "  color: #000000;\n",
       "}\n",
       "#T_9f489_row2_col3 {\n",
       "  background-color: #bcd7eb;\n",
       "  color: #000000;\n",
       "}\n",
       "#T_9f489_row2_col4 {\n",
       "  background-color: #cadef0;\n",
       "  color: #000000;\n",
       "}\n",
       "#T_9f489_row2_col7, #T_9f489_row2_col8 {\n",
       "  background-color: #cbdef1;\n",
       "  color: #000000;\n",
       "}\n",
       "#T_9f489_row2_col9 {\n",
       "  background-color: #caddf0;\n",
       "  color: #000000;\n",
       "}\n",
       "#T_9f489_row2_col10 {\n",
       "  background-color: #ccdff1;\n",
       "  color: #000000;\n",
       "}\n",
       "#T_9f489_row3_col3 {\n",
       "  background-color: #f3f8fe;\n",
       "  color: #000000;\n",
       "}\n",
       "#T_9f489_row3_col4, #T_9f489_row3_col9, #T_9f489_row7_col5 {\n",
       "  background-color: #f6faff;\n",
       "  color: #000000;\n",
       "}\n",
       "#T_9f489_row3_col6 {\n",
       "  background-color: #f2f7fd;\n",
       "  color: #000000;\n",
       "}\n",
       "#T_9f489_row4_col3 {\n",
       "  background-color: #bfd8ed;\n",
       "  color: #000000;\n",
       "}\n",
       "#T_9f489_row4_col4, #T_9f489_row5_col7 {\n",
       "  background-color: #d1e2f3;\n",
       "  color: #000000;\n",
       "}\n",
       "#T_9f489_row4_col6, #T_9f489_row4_col8 {\n",
       "  background-color: #eaf2fb;\n",
       "  color: #000000;\n",
       "}\n",
       "#T_9f489_row4_col7 {\n",
       "  background-color: #e7f1fa;\n",
       "  color: #000000;\n",
       "}\n",
       "#T_9f489_row4_col9, #T_9f489_row5_col8 {\n",
       "  background-color: #d2e3f3;\n",
       "  color: #000000;\n",
       "}\n",
       "#T_9f489_row4_col10 {\n",
       "  background-color: #d8e7f5;\n",
       "  color: #000000;\n",
       "}\n",
       "#T_9f489_row5_col3 {\n",
       "  background-color: #66abd4;\n",
       "  color: #f1f1f1;\n",
       "}\n",
       "#T_9f489_row5_col4 {\n",
       "  background-color: #a1cbe2;\n",
       "  color: #000000;\n",
       "}\n",
       "#T_9f489_row5_col9 {\n",
       "  background-color: #9fcae1;\n",
       "  color: #000000;\n",
       "}\n",
       "#T_9f489_row5_col10 {\n",
       "  background-color: #b2d2e8;\n",
       "  color: #000000;\n",
       "}\n",
       "#T_9f489_row6_col3 {\n",
       "  background-color: #206fb4;\n",
       "  color: #f1f1f1;\n",
       "}\n",
       "#T_9f489_row6_col4 {\n",
       "  background-color: #5ca4d0;\n",
       "  color: #f1f1f1;\n",
       "}\n",
       "#T_9f489_row6_col6 {\n",
       "  background-color: #dce9f6;\n",
       "  color: #000000;\n",
       "}\n",
       "#T_9f489_row6_col7 {\n",
       "  background-color: #99c7e0;\n",
       "  color: #000000;\n",
       "}\n",
       "#T_9f489_row6_col8 {\n",
       "  background-color: #97c6df;\n",
       "  color: #000000;\n",
       "}\n",
       "#T_9f489_row6_col9 {\n",
       "  background-color: #5aa2cf;\n",
       "  color: #f1f1f1;\n",
       "}\n",
       "#T_9f489_row6_col10 {\n",
       "  background-color: #72b2d8;\n",
       "  color: #f1f1f1;\n",
       "}\n",
       "#T_9f489_row7_col6 {\n",
       "  background-color: #d4e4f4;\n",
       "  color: #000000;\n",
       "}\n",
       "</style>\n",
       "<table id=\"T_9f489\">\n",
       "  <thead>\n",
       "    <tr>\n",
       "      <th class=\"blank level0\" >&nbsp;</th>\n",
       "      <th id=\"T_9f489_level0_col0\" class=\"col_heading level0 col0\" > no_of_dependents</th>\n",
       "      <th id=\"T_9f489_level0_col1\" class=\"col_heading level0 col1\" > education</th>\n",
       "      <th id=\"T_9f489_level0_col2\" class=\"col_heading level0 col2\" > self_employed</th>\n",
       "      <th id=\"T_9f489_level0_col3\" class=\"col_heading level0 col3\" > income_annum</th>\n",
       "      <th id=\"T_9f489_level0_col4\" class=\"col_heading level0 col4\" > loan_amount</th>\n",
       "      <th id=\"T_9f489_level0_col5\" class=\"col_heading level0 col5\" > loan_term</th>\n",
       "      <th id=\"T_9f489_level0_col6\" class=\"col_heading level0 col6\" > cibil_score</th>\n",
       "      <th id=\"T_9f489_level0_col7\" class=\"col_heading level0 col7\" > residential_assets_value</th>\n",
       "      <th id=\"T_9f489_level0_col8\" class=\"col_heading level0 col8\" > commercial_assets_value</th>\n",
       "      <th id=\"T_9f489_level0_col9\" class=\"col_heading level0 col9\" > luxury_assets_value</th>\n",
       "      <th id=\"T_9f489_level0_col10\" class=\"col_heading level0 col10\" > bank_asset_value</th>\n",
       "      <th id=\"T_9f489_level0_col11\" class=\"col_heading level0 col11\" > loan_status</th>\n",
       "    </tr>\n",
       "  </thead>\n",
       "  <tbody>\n",
       "    <tr>\n",
       "      <th id=\"T_9f489_level0_row0\" class=\"row_heading level0 row0\" >count</th>\n",
       "      <td id=\"T_9f489_row0_col0\" class=\"data row0 col0\" >4269.000000</td>\n",
       "      <td id=\"T_9f489_row0_col1\" class=\"data row0 col1\" >4269.000000</td>\n",
       "      <td id=\"T_9f489_row0_col2\" class=\"data row0 col2\" >4269.000000</td>\n",
       "      <td id=\"T_9f489_row0_col3\" class=\"data row0 col3\" >4269.000000</td>\n",
       "      <td id=\"T_9f489_row0_col4\" class=\"data row0 col4\" >4269.000000</td>\n",
       "      <td id=\"T_9f489_row0_col5\" class=\"data row0 col5\" >4269.000000</td>\n",
       "      <td id=\"T_9f489_row0_col6\" class=\"data row0 col6\" >4269.000000</td>\n",
       "      <td id=\"T_9f489_row0_col7\" class=\"data row0 col7\" >4269.000000</td>\n",
       "      <td id=\"T_9f489_row0_col8\" class=\"data row0 col8\" >4269.000000</td>\n",
       "      <td id=\"T_9f489_row0_col9\" class=\"data row0 col9\" >4269.000000</td>\n",
       "      <td id=\"T_9f489_row0_col10\" class=\"data row0 col10\" >4269.000000</td>\n",
       "      <td id=\"T_9f489_row0_col11\" class=\"data row0 col11\" >4269.000000</td>\n",
       "    </tr>\n",
       "    <tr>\n",
       "      <th id=\"T_9f489_level0_row1\" class=\"row_heading level0 row1\" >mean</th>\n",
       "      <td id=\"T_9f489_row1_col0\" class=\"data row1 col0\" >2.498712</td>\n",
       "      <td id=\"T_9f489_row1_col1\" class=\"data row1 col1\" >0.497775</td>\n",
       "      <td id=\"T_9f489_row1_col2\" class=\"data row1 col2\" >0.503631</td>\n",
       "      <td id=\"T_9f489_row1_col3\" class=\"data row1 col3\" >5059123.916608</td>\n",
       "      <td id=\"T_9f489_row1_col4\" class=\"data row1 col4\" >15133450.456781</td>\n",
       "      <td id=\"T_9f489_row1_col5\" class=\"data row1 col5\" >10.900445</td>\n",
       "      <td id=\"T_9f489_row1_col6\" class=\"data row1 col6\" >599.936051</td>\n",
       "      <td id=\"T_9f489_row1_col7\" class=\"data row1 col7\" >7472616.537831</td>\n",
       "      <td id=\"T_9f489_row1_col8\" class=\"data row1 col8\" >4973155.305692</td>\n",
       "      <td id=\"T_9f489_row1_col9\" class=\"data row1 col9\" >15126305.926446</td>\n",
       "      <td id=\"T_9f489_row1_col10\" class=\"data row1 col10\" >4976692.433825</td>\n",
       "      <td id=\"T_9f489_row1_col11\" class=\"data row1 col11\" >0.377840</td>\n",
       "    </tr>\n",
       "    <tr>\n",
       "      <th id=\"T_9f489_level0_row2\" class=\"row_heading level0 row2\" >std</th>\n",
       "      <td id=\"T_9f489_row2_col0\" class=\"data row2 col0\" >1.695910</td>\n",
       "      <td id=\"T_9f489_row2_col1\" class=\"data row2 col1\" >0.500054</td>\n",
       "      <td id=\"T_9f489_row2_col2\" class=\"data row2 col2\" >0.500045</td>\n",
       "      <td id=\"T_9f489_row2_col3\" class=\"data row2 col3\" >2806839.831818</td>\n",
       "      <td id=\"T_9f489_row2_col4\" class=\"data row2 col4\" >9043362.984843</td>\n",
       "      <td id=\"T_9f489_row2_col5\" class=\"data row2 col5\" >5.709187</td>\n",
       "      <td id=\"T_9f489_row2_col6\" class=\"data row2 col6\" >172.430401</td>\n",
       "      <td id=\"T_9f489_row2_col7\" class=\"data row2 col7\" >6503636.587664</td>\n",
       "      <td id=\"T_9f489_row2_col8\" class=\"data row2 col8\" >4388966.089638</td>\n",
       "      <td id=\"T_9f489_row2_col9\" class=\"data row2 col9\" >9103753.665256</td>\n",
       "      <td id=\"T_9f489_row2_col10\" class=\"data row2 col10\" >3250185.305696</td>\n",
       "      <td id=\"T_9f489_row2_col11\" class=\"data row2 col11\" >0.484904</td>\n",
       "    </tr>\n",
       "    <tr>\n",
       "      <th id=\"T_9f489_level0_row3\" class=\"row_heading level0 row3\" >min</th>\n",
       "      <td id=\"T_9f489_row3_col0\" class=\"data row3 col0\" >0.000000</td>\n",
       "      <td id=\"T_9f489_row3_col1\" class=\"data row3 col1\" >0.000000</td>\n",
       "      <td id=\"T_9f489_row3_col2\" class=\"data row3 col2\" >0.000000</td>\n",
       "      <td id=\"T_9f489_row3_col3\" class=\"data row3 col3\" >200000.000000</td>\n",
       "      <td id=\"T_9f489_row3_col4\" class=\"data row3 col4\" >300000.000000</td>\n",
       "      <td id=\"T_9f489_row3_col5\" class=\"data row3 col5\" >2.000000</td>\n",
       "      <td id=\"T_9f489_row3_col6\" class=\"data row3 col6\" >300.000000</td>\n",
       "      <td id=\"T_9f489_row3_col7\" class=\"data row3 col7\" >-100000.000000</td>\n",
       "      <td id=\"T_9f489_row3_col8\" class=\"data row3 col8\" >0.000000</td>\n",
       "      <td id=\"T_9f489_row3_col9\" class=\"data row3 col9\" >300000.000000</td>\n",
       "      <td id=\"T_9f489_row3_col10\" class=\"data row3 col10\" >0.000000</td>\n",
       "      <td id=\"T_9f489_row3_col11\" class=\"data row3 col11\" >0.000000</td>\n",
       "    </tr>\n",
       "    <tr>\n",
       "      <th id=\"T_9f489_level0_row4\" class=\"row_heading level0 row4\" >25%</th>\n",
       "      <td id=\"T_9f489_row4_col0\" class=\"data row4 col0\" >1.000000</td>\n",
       "      <td id=\"T_9f489_row4_col1\" class=\"data row4 col1\" >0.000000</td>\n",
       "      <td id=\"T_9f489_row4_col2\" class=\"data row4 col2\" >0.000000</td>\n",
       "      <td id=\"T_9f489_row4_col3\" class=\"data row4 col3\" >2700000.000000</td>\n",
       "      <td id=\"T_9f489_row4_col4\" class=\"data row4 col4\" >7700000.000000</td>\n",
       "      <td id=\"T_9f489_row4_col5\" class=\"data row4 col5\" >6.000000</td>\n",
       "      <td id=\"T_9f489_row4_col6\" class=\"data row4 col6\" >453.000000</td>\n",
       "      <td id=\"T_9f489_row4_col7\" class=\"data row4 col7\" >2200000.000000</td>\n",
       "      <td id=\"T_9f489_row4_col8\" class=\"data row4 col8\" >1300000.000000</td>\n",
       "      <td id=\"T_9f489_row4_col9\" class=\"data row4 col9\" >7500000.000000</td>\n",
       "      <td id=\"T_9f489_row4_col10\" class=\"data row4 col10\" >2300000.000000</td>\n",
       "      <td id=\"T_9f489_row4_col11\" class=\"data row4 col11\" >0.000000</td>\n",
       "    </tr>\n",
       "    <tr>\n",
       "      <th id=\"T_9f489_level0_row5\" class=\"row_heading level0 row5\" >50%</th>\n",
       "      <td id=\"T_9f489_row5_col0\" class=\"data row5 col0\" >3.000000</td>\n",
       "      <td id=\"T_9f489_row5_col1\" class=\"data row5 col1\" >0.000000</td>\n",
       "      <td id=\"T_9f489_row5_col2\" class=\"data row5 col2\" >1.000000</td>\n",
       "      <td id=\"T_9f489_row5_col3\" class=\"data row5 col3\" >5100000.000000</td>\n",
       "      <td id=\"T_9f489_row5_col4\" class=\"data row5 col4\" >14500000.000000</td>\n",
       "      <td id=\"T_9f489_row5_col5\" class=\"data row5 col5\" >10.000000</td>\n",
       "      <td id=\"T_9f489_row5_col6\" class=\"data row5 col6\" >600.000000</td>\n",
       "      <td id=\"T_9f489_row5_col7\" class=\"data row5 col7\" >5600000.000000</td>\n",
       "      <td id=\"T_9f489_row5_col8\" class=\"data row5 col8\" >3700000.000000</td>\n",
       "      <td id=\"T_9f489_row5_col9\" class=\"data row5 col9\" >14600000.000000</td>\n",
       "      <td id=\"T_9f489_row5_col10\" class=\"data row5 col10\" >4600000.000000</td>\n",
       "      <td id=\"T_9f489_row5_col11\" class=\"data row5 col11\" >0.000000</td>\n",
       "    </tr>\n",
       "    <tr>\n",
       "      <th id=\"T_9f489_level0_row6\" class=\"row_heading level0 row6\" >75%</th>\n",
       "      <td id=\"T_9f489_row6_col0\" class=\"data row6 col0\" >4.000000</td>\n",
       "      <td id=\"T_9f489_row6_col1\" class=\"data row6 col1\" >1.000000</td>\n",
       "      <td id=\"T_9f489_row6_col2\" class=\"data row6 col2\" >1.000000</td>\n",
       "      <td id=\"T_9f489_row6_col3\" class=\"data row6 col3\" >7500000.000000</td>\n",
       "      <td id=\"T_9f489_row6_col4\" class=\"data row6 col4\" >21500000.000000</td>\n",
       "      <td id=\"T_9f489_row6_col5\" class=\"data row6 col5\" >16.000000</td>\n",
       "      <td id=\"T_9f489_row6_col6\" class=\"data row6 col6\" >748.000000</td>\n",
       "      <td id=\"T_9f489_row6_col7\" class=\"data row6 col7\" >11300000.000000</td>\n",
       "      <td id=\"T_9f489_row6_col8\" class=\"data row6 col8\" >7600000.000000</td>\n",
       "      <td id=\"T_9f489_row6_col9\" class=\"data row6 col9\" >21700000.000000</td>\n",
       "      <td id=\"T_9f489_row6_col10\" class=\"data row6 col10\" >7100000.000000</td>\n",
       "      <td id=\"T_9f489_row6_col11\" class=\"data row6 col11\" >1.000000</td>\n",
       "    </tr>\n",
       "    <tr>\n",
       "      <th id=\"T_9f489_level0_row7\" class=\"row_heading level0 row7\" >max</th>\n",
       "      <td id=\"T_9f489_row7_col0\" class=\"data row7 col0\" >5.000000</td>\n",
       "      <td id=\"T_9f489_row7_col1\" class=\"data row7 col1\" >1.000000</td>\n",
       "      <td id=\"T_9f489_row7_col2\" class=\"data row7 col2\" >1.000000</td>\n",
       "      <td id=\"T_9f489_row7_col3\" class=\"data row7 col3\" >9900000.000000</td>\n",
       "      <td id=\"T_9f489_row7_col4\" class=\"data row7 col4\" >39500000.000000</td>\n",
       "      <td id=\"T_9f489_row7_col5\" class=\"data row7 col5\" >20.000000</td>\n",
       "      <td id=\"T_9f489_row7_col6\" class=\"data row7 col6\" >900.000000</td>\n",
       "      <td id=\"T_9f489_row7_col7\" class=\"data row7 col7\" >29100000.000000</td>\n",
       "      <td id=\"T_9f489_row7_col8\" class=\"data row7 col8\" >19400000.000000</td>\n",
       "      <td id=\"T_9f489_row7_col9\" class=\"data row7 col9\" >39200000.000000</td>\n",
       "      <td id=\"T_9f489_row7_col10\" class=\"data row7 col10\" >14700000.000000</td>\n",
       "      <td id=\"T_9f489_row7_col11\" class=\"data row7 col11\" >1.000000</td>\n",
       "    </tr>\n",
       "  </tbody>\n",
       "</table>\n"
      ],
      "text/plain": [
       "<pandas.io.formats.style.Styler at 0x7bece0182f80>"
      ]
     },
     "execution_count": 10,
     "metadata": {},
     "output_type": "execute_result"
    }
   ],
   "source": [
    "data.describe().style.background_gradient(cmap=\"Blues\")"
   ]
  },
  {
   "cell_type": "code",
   "execution_count": 11,
   "id": "a715de3a",
   "metadata": {
    "execution": {
     "iopub.execute_input": "2024-05-24T07:55:00.025690Z",
     "iopub.status.busy": "2024-05-24T07:55:00.025099Z",
     "iopub.status.idle": "2024-05-24T07:55:00.034769Z",
     "shell.execute_reply": "2024-05-24T07:55:00.033697Z"
    },
    "papermill": {
     "duration": 0.025525,
     "end_time": "2024-05-24T07:55:00.037191",
     "exception": false,
     "start_time": "2024-05-24T07:55:00.011666",
     "status": "completed"
    },
    "tags": []
   },
   "outputs": [
    {
     "data": {
      "text/plain": [
       "no_of_dependents            0\n",
       "education                   0\n",
       "self_employed               0\n",
       "income_annum                0\n",
       "loan_amount                 0\n",
       "loan_term                   0\n",
       "cibil_score                 0\n",
       "residential_assets_value    0\n",
       "commercial_assets_value     0\n",
       "luxury_assets_value         0\n",
       "bank_asset_value            0\n",
       "loan_status                 0\n",
       "dtype: int64"
      ]
     },
     "execution_count": 11,
     "metadata": {},
     "output_type": "execute_result"
    }
   ],
   "source": [
    "data.isnull().sum()"
   ]
  },
  {
   "cell_type": "code",
   "execution_count": 12,
   "id": "8b2011bc",
   "metadata": {
    "execution": {
     "iopub.execute_input": "2024-05-24T07:55:00.062580Z",
     "iopub.status.busy": "2024-05-24T07:55:00.062138Z",
     "iopub.status.idle": "2024-05-24T07:55:00.311516Z",
     "shell.execute_reply": "2024-05-24T07:55:00.310382Z"
    },
    "papermill": {
     "duration": 0.264963,
     "end_time": "2024-05-24T07:55:00.313975",
     "exception": false,
     "start_time": "2024-05-24T07:55:00.049012",
     "status": "completed"
    },
    "tags": []
   },
   "outputs": [
    {
     "data": {
      "image/png": "[encoded data removed]",
      "text/plain": [
       "<Figure size 800x600 with 1 Axes>"
      ]
     },
     "metadata": {},
     "output_type": "display_data"
    }
   ],
   "source": [
    "plt.figure(figsize=(8,6))\n",
    "sns.boxplot(data,x=\" loan_amount\")\n",
    "plt.show()"
   ]
  },
  {
   "cell_type": "code",
   "execution_count": 13,
   "id": "e623ccdd",
   "metadata": {
    "execution": {
     "iopub.execute_input": "2024-05-24T07:55:00.340819Z",
     "iopub.status.busy": "2024-05-24T07:55:00.340389Z",
     "iopub.status.idle": "2024-05-24T07:55:00.548725Z",
     "shell.execute_reply": "2024-05-24T07:55:00.547665Z"
    },
    "papermill": {
     "duration": 0.225253,
     "end_time": "2024-05-24T07:55:00.551243",
     "exception": false,
     "start_time": "2024-05-24T07:55:00.325990",
     "status": "completed"
    },
    "tags": []
   },
   "outputs": [
    {
     "data": {
      "image/png": "[encoded data removed]",
      "text/plain": [
       "<Figure size 800x600 with 1 Axes>"
      ]
     },
     "metadata": {},
     "output_type": "display_data"
    }
   ],
   "source": [
    "plt.figure(figsize=(8,6))\n",
    "sns.countplot(data,x=\" loan_status\")\n",
    "plt.show()"
   ]
  },
  {
   "cell_type": "markdown",
   "id": "4cf4e504",
   "metadata": {
    "papermill": {
     "duration": 0.011915,
     "end_time": "2024-05-24T07:55:00.575562",
     "exception": false,
     "start_time": "2024-05-24T07:55:00.563647",
     "status": "completed"
    },
    "tags": []
   },
   "source": [
    "### 0 describes no.of approved loans and 1 describes no.of rejected loans"
   ]
  },
  {
   "cell_type": "code",
   "execution_count": 14,
   "id": "477564ec",
   "metadata": {
    "execution": {
     "iopub.execute_input": "2024-05-24T07:55:00.601978Z",
     "iopub.status.busy": "2024-05-24T07:55:00.601000Z",
     "iopub.status.idle": "2024-05-24T07:55:01.424155Z",
     "shell.execute_reply": "2024-05-24T07:55:01.422917Z"
    },
    "papermill": {
     "duration": 0.840299,
     "end_time": "2024-05-24T07:55:01.427919",
     "exception": false,
     "start_time": "2024-05-24T07:55:00.587620",
     "status": "completed"
    },
    "tags": []
   },
   "outputs": [
    {
     "data": {
      "image/png": "[encoded data removed]",
      "text/plain": [
       "<Figure size 1000x800 with 2 Axes>"
      ]
     },
     "metadata": {},
     "output_type": "display_data"
    }
   ],
   "source": [
    "plt.figure(figsize=(10,8))\n",
    "sns.heatmap(data.corr(), cmap=\"coolwarm\", annot=True)\n",
    "plt.show()"
   ]
  },
  {
   "cell_type": "code",
   "execution_count": 15,
   "id": "da8f4332",
   "metadata": {
    "execution": {
     "iopub.execute_input": "2024-05-24T07:55:01.458866Z",
     "iopub.status.busy": "2024-05-24T07:55:01.458445Z",
     "iopub.status.idle": "2024-05-24T07:55:01.738271Z",
     "shell.execute_reply": "2024-05-24T07:55:01.737129Z"
    },
    "papermill": {
     "duration": 0.298122,
     "end_time": "2024-05-24T07:55:01.740655",
     "exception": false,
     "start_time": "2024-05-24T07:55:01.442533",
     "status": "completed"
    },
    "tags": []
   },
   "outputs": [
    {
     "data": {
      "image/png": "[encoded data removed]",
      "text/plain": [
       "<Figure size 800x400 with 1 Axes>"
      ]
     },
     "metadata": {},
     "output_type": "display_data"
    }
   ],
   "source": [
    "plt.figure(figsize=(8,4))\n",
    "sns.scatterplot(x=' cibil_score',y=' loan_status',data=data)\n",
    "plt.show()"
   ]
  },
  {
   "cell_type": "markdown",
   "id": "8403b424",
   "metadata": {
    "papermill": {
     "duration": 0.014796,
     "end_time": "2024-05-24T07:55:01.770458",
     "exception": false,
     "start_time": "2024-05-24T07:55:01.755662",
     "status": "completed"
    },
    "tags": []
   },
   "source": [
    "There are some outliers for rejected loan applications despite of having high cibil score. But loans were approved with cibil scores ranging from 300-900. "
   ]
  },
  {
   "cell_type": "markdown",
   "id": "9597cd3e",
   "metadata": {
    "papermill": {
     "duration": 0.01467,
     "end_time": "2024-05-24T07:55:01.800173",
     "exception": false,
     "start_time": "2024-05-24T07:55:01.785503",
     "status": "completed"
    },
    "tags": []
   },
   "source": [
    "# Data preparation and split"
   ]
  },
  {
   "cell_type": "code",
   "execution_count": 16,
   "id": "2d298bf0",
   "metadata": {
    "execution": {
     "iopub.execute_input": "2024-05-24T07:55:01.832069Z",
     "iopub.status.busy": "2024-05-24T07:55:01.831671Z",
     "iopub.status.idle": "2024-05-24T07:55:01.939409Z",
     "shell.execute_reply": "2024-05-24T07:55:01.938361Z"
    },
    "papermill": {
     "duration": 0.126586,
     "end_time": "2024-05-24T07:55:01.942020",
     "exception": false,
     "start_time": "2024-05-24T07:55:01.815434",
     "status": "completed"
    },
    "tags": []
   },
   "outputs": [],
   "source": [
    "x = data.drop([\" loan_status\"],axis=1)\n",
    "y = data[\" loan_status\"]\n",
    "\n",
    "from sklearn.model_selection import train_test_split\n",
    "x_train,x_test,y_train,y_test = train_test_split(x,y,test_size=0.1)"
   ]
  },
  {
   "cell_type": "markdown",
   "id": "731b3787",
   "metadata": {
    "papermill": {
     "duration": 0.016435,
     "end_time": "2024-05-24T07:55:01.973559",
     "exception": false,
     "start_time": "2024-05-24T07:55:01.957124",
     "status": "completed"
    },
    "tags": []
   },
   "source": [
    "# Logistic Regression"
   ]
  },
  {
   "cell_type": "code",
   "execution_count": 17,
   "id": "d088a58c",
   "metadata": {
    "execution": {
     "iopub.execute_input": "2024-05-24T07:55:02.006587Z",
     "iopub.status.busy": "2024-05-24T07:55:02.005501Z",
     "iopub.status.idle": "2024-05-24T07:55:02.153838Z",
     "shell.execute_reply": "2024-05-24T07:55:02.152370Z"
    },
    "papermill": {
     "duration": 0.169448,
     "end_time": "2024-05-24T07:55:02.158190",
     "exception": false,
     "start_time": "2024-05-24T07:55:01.988742",
     "status": "completed"
    },
    "tags": []
   },
   "outputs": [
    {
     "name": "stdout",
     "output_type": "stream",
     "text": [
      "              precision    recall  f1-score   support\n",
      "\n",
      "           0       0.66      1.00      0.80       282\n",
      "           1       1.00      0.01      0.03       145\n",
      "\n",
      "    accuracy                           0.67       427\n",
      "   macro avg       0.83      0.51      0.41       427\n",
      "weighted avg       0.78      0.67      0.54       427\n",
      "\n",
      "Accuracy of Logistic Regression is :  66.51053864168618\n"
     ]
    }
   ],
   "source": [
    "from sklearn.linear_model import LogisticRegression\n",
    "reg = LogisticRegression()\n",
    "reg.fit(x_train,y_train)\n",
    "regpred = reg.predict(x_test)\n",
    "\n",
    "from sklearn.metrics import classification_report,confusion_matrix,accuracy_score\n",
    "print(classification_report(y_test,regpred))\n",
    "print(\"Accuracy of Logistic Regression is : \",accuracy_score(y_test,regpred)*100)"
   ]
  },
  {
   "cell_type": "code",
   "execution_count": 18,
   "id": "44a40893",
   "metadata": {
    "execution": {
     "iopub.execute_input": "2024-05-24T07:55:02.227298Z",
     "iopub.status.busy": "2024-05-24T07:55:02.226571Z",
     "iopub.status.idle": "2024-05-24T07:55:02.250111Z",
     "shell.execute_reply": "2024-05-24T07:55:02.249252Z"
    },
    "papermill": {
     "duration": 0.06204,
     "end_time": "2024-05-24T07:55:02.252652",
     "exception": false,
     "start_time": "2024-05-24T07:55:02.190612",
     "status": "completed"
    },
    "tags": []
   },
   "outputs": [
    {
     "name": "stdout",
     "output_type": "stream",
     "text": [
      "Mean Absolute Error :  0.33489461358313816\n",
      "Mean Squared Error :  0.33489461358313816\n",
      "Root Mean Squared Error :  0.5787007979803883\n",
      "R2 Score :  -0.49329909513328385\n"
     ]
    }
   ],
   "source": [
    "from sklearn.metrics import mean_absolute_error,mean_squared_error,r2_score\n",
    "\n",
    "print(\"Mean Absolute Error : \",mean_absolute_error(y_test,regpred))\n",
    "print(\"Mean Squared Error : \",mean_squared_error(y_test,regpred))\n",
    "print(\"Root Mean Squared Error : \",np.sqrt(mean_squared_error(y_test,regpred)))\n",
    "print(\"R2 Score : \",r2_score(y_test,regpred))"
   ]
  },
  {
   "cell_type": "markdown",
   "id": "92c24ccf",
   "metadata": {
    "papermill": {
     "duration": 0.014803,
     "end_time": "2024-05-24T07:55:02.282728",
     "exception": false,
     "start_time": "2024-05-24T07:55:02.267925",
     "status": "completed"
    },
    "tags": []
   },
   "source": [
    "# Decision Tree"
   ]
  },
  {
   "cell_type": "code",
   "execution_count": 19,
   "id": "84fe4ae7",
   "metadata": {
    "execution": {
     "iopub.execute_input": "2024-05-24T07:55:02.314258Z",
     "iopub.status.busy": "2024-05-24T07:55:02.313828Z",
     "iopub.status.idle": "2024-05-24T07:55:02.433041Z",
     "shell.execute_reply": "2024-05-24T07:55:02.432011Z"
    },
    "papermill": {
     "duration": 0.138081,
     "end_time": "2024-05-24T07:55:02.435748",
     "exception": false,
     "start_time": "2024-05-24T07:55:02.297667",
     "status": "completed"
    },
    "tags": []
   },
   "outputs": [
    {
     "name": "stdout",
     "output_type": "stream",
     "text": [
      "              precision    recall  f1-score   support\n",
      "\n",
      "           0       0.97      0.99      0.98       282\n",
      "           1       0.98      0.94      0.96       145\n",
      "\n",
      "    accuracy                           0.97       427\n",
      "   macro avg       0.98      0.97      0.97       427\n",
      "weighted avg       0.97      0.97      0.97       427\n",
      "\n",
      "Accuracy of Decision Tree is :  97.42388758782201\n"
     ]
    }
   ],
   "source": [
    "from sklearn import tree\n",
    "dtree = tree.DecisionTreeClassifier()\n",
    "dtree.fit(x_train,y_train)\n",
    "dtreepred = dtree.predict(x_test)\n",
    "\n",
    "print(classification_report(y_test,dtreepred))\n",
    "print(\"Accuracy of Decision Tree is : \",accuracy_score(y_test,dtreepred)*100)"
   ]
  },
  {
   "cell_type": "code",
   "execution_count": 20,
   "id": "85b513e8",
   "metadata": {
    "execution": {
     "iopub.execute_input": "2024-05-24T07:55:02.468567Z",
     "iopub.status.busy": "2024-05-24T07:55:02.468150Z",
     "iopub.status.idle": "2024-05-24T07:55:02.477386Z",
     "shell.execute_reply": "2024-05-24T07:55:02.476421Z"
    },
    "papermill": {
     "duration": 0.028401,
     "end_time": "2024-05-24T07:55:02.479795",
     "exception": false,
     "start_time": "2024-05-24T07:55:02.451394",
     "status": "completed"
    },
    "tags": []
   },
   "outputs": [
    {
     "name": "stdout",
     "output_type": "stream",
     "text": [
      "Mean Absolute Error :  0.02576112412177986\n",
      "Mean Squared Error :  0.02576112412177986\n",
      "Root Mean Squared Error :  0.16050272309770902\n",
      "R2 Score :  0.8851308388359013\n"
     ]
    }
   ],
   "source": [
    "print(\"Mean Absolute Error : \",mean_absolute_error(y_test,dtreepred))\n",
    "print(\"Mean Squared Error : \",mean_squared_error(y_test,dtreepred))\n",
    "print(\"Root Mean Squared Error : \",np.sqrt(mean_squared_error(y_test,dtreepred)))\n",
    "print(\"R2 Score : \",r2_score(y_test,dtreepred))"
   ]
  },
  {
   "cell_type": "markdown",
   "id": "18243ed5",
   "metadata": {
    "papermill": {
     "duration": 0.015203,
     "end_time": "2024-05-24T07:55:02.510440",
     "exception": false,
     "start_time": "2024-05-24T07:55:02.495237",
     "status": "completed"
    },
    "tags": []
   },
   "source": [
    "# Random Forest"
   ]
  },
  {
   "cell_type": "code",
   "execution_count": 21,
   "id": "58f4089d",
   "metadata": {
    "execution": {
     "iopub.execute_input": "2024-05-24T07:55:02.544027Z",
     "iopub.status.busy": "2024-05-24T07:55:02.543645Z",
     "iopub.status.idle": "2024-05-24T07:55:03.183142Z",
     "shell.execute_reply": "2024-05-24T07:55:03.182008Z"
    },
    "papermill": {
     "duration": 0.66024,
     "end_time": "2024-05-24T07:55:03.185862",
     "exception": false,
     "start_time": "2024-05-24T07:55:02.525622",
     "status": "completed"
    },
    "tags": []
   },
   "outputs": [
    {
     "name": "stdout",
     "output_type": "stream",
     "text": [
      "              precision    recall  f1-score   support\n",
      "\n",
      "           0       0.98      0.99      0.99       282\n",
      "           1       0.99      0.96      0.97       145\n",
      "\n",
      "    accuracy                           0.98       427\n",
      "   macro avg       0.98      0.98      0.98       427\n",
      "weighted avg       0.98      0.98      0.98       427\n",
      "\n",
      "Accuracy of Random Forest is is :  98.12646370023418\n"
     ]
    }
   ],
   "source": [
    "from sklearn.ensemble import RandomForestClassifier\n",
    "rf = RandomForestClassifier(n_estimators=100)\n",
    "rf.fit(x_train,y_train)\n",
    "rfpred = rf.predict(x_test)\n",
    "\n",
    "print(classification_report(y_test,rfpred))\n",
    "print(\"Accuracy of Random Forest is is : \",accuracy_score(y_test,rfpred)*100)"
   ]
  },
  {
   "cell_type": "code",
   "execution_count": 22,
   "id": "555505c6",
   "metadata": {
    "execution": {
     "iopub.execute_input": "2024-05-24T07:55:03.218583Z",
     "iopub.status.busy": "2024-05-24T07:55:03.218166Z",
     "iopub.status.idle": "2024-05-24T07:55:03.227416Z",
     "shell.execute_reply": "2024-05-24T07:55:03.226358Z"
    },
    "papermill": {
     "duration": 0.028543,
     "end_time": "2024-05-24T07:55:03.229945",
     "exception": false,
     "start_time": "2024-05-24T07:55:03.201402",
     "status": "completed"
    },
    "tags": []
   },
   "outputs": [
    {
     "name": "stdout",
     "output_type": "stream",
     "text": [
      "Mean Absolute Error :  0.01873536299765808\n",
      "Mean Squared Error :  0.01873536299765808\n",
      "Root Mean Squared Error :  0.13687718216583097\n",
      "R2 Score :  0.9164587918806555\n"
     ]
    }
   ],
   "source": [
    "print(\"Mean Absolute Error : \",mean_absolute_error(y_test,rfpred))\n",
    "print(\"Mean Squared Error : \",mean_squared_error(y_test,rfpred))\n",
    "print(\"Root Mean Squared Error : \",np.sqrt(mean_squared_error(y_test,rfpred)))\n",
    "print(\"R2 Score : \",r2_score(y_test,rfpred))"
   ]
  },
  {
   "cell_type": "markdown",
   "id": "e00e0373",
   "metadata": {
    "papermill": {
     "duration": 0.015148,
     "end_time": "2024-05-24T07:55:03.260665",
     "exception": false,
     "start_time": "2024-05-24T07:55:03.245517",
     "status": "completed"
    },
    "tags": []
   },
   "source": [
    "# Model Performance Evaluation"
   ]
  },
  {
   "cell_type": "code",
   "execution_count": 23,
   "id": "b3c3529a",
   "metadata": {
    "execution": {
     "iopub.execute_input": "2024-05-24T07:55:03.293730Z",
     "iopub.status.busy": "2024-05-24T07:55:03.292968Z",
     "iopub.status.idle": "2024-05-24T07:55:03.493212Z",
     "shell.execute_reply": "2024-05-24T07:55:03.491995Z"
    },
    "papermill": {
     "duration": 0.219539,
     "end_time": "2024-05-24T07:55:03.495616",
     "exception": false,
     "start_time": "2024-05-24T07:55:03.276077",
     "status": "completed"
    },
    "tags": []
   },
   "outputs": [
    {
     "data": {
      "image/png": "[encoded data removed]",
      "text/plain": [
       "<Figure size 640x480 with 1 Axes>"
      ]
     },
     "metadata": {},
     "output_type": "display_data"
    }
   ],
   "source": [
    "LR = accuracy_score(y_test,regpred)*100\n",
    "DT = accuracy_score(y_test,dtreepred)*100\n",
    "RF = accuracy_score(y_test,rfpred)*100\n",
    "\n",
    "Model = ['LR','DT','RF']\n",
    "Score = [LR, DT, RF]\n",
    "barplot = plt.bar(x=Model,height=Score)\n",
    "plt.show()"
   ]
  },
  {
   "cell_type": "markdown",
   "id": "3d2b1f97",
   "metadata": {
    "papermill": {
     "duration": 0.01553,
     "end_time": "2024-05-24T07:55:03.526905",
     "exception": false,
     "start_time": "2024-05-24T07:55:03.511375",
     "status": "completed"
    },
    "tags": []
   },
   "source": [
    "# Feature Importance"
   ]
  },
  {
   "cell_type": "code",
   "execution_count": 24,
   "id": "8695d335",
   "metadata": {
    "execution": {
     "iopub.execute_input": "2024-05-24T07:55:03.560394Z",
     "iopub.status.busy": "2024-05-24T07:55:03.559744Z",
     "iopub.status.idle": "2024-05-24T07:55:03.577636Z",
     "shell.execute_reply": "2024-05-24T07:55:03.576322Z"
    },
    "papermill": {
     "duration": 0.037356,
     "end_time": "2024-05-24T07:55:03.580030",
     "exception": false,
     "start_time": "2024-05-24T07:55:03.542674",
     "status": "completed"
    },
    "tags": []
   },
   "outputs": [
    {
     "name": "stdout",
     "output_type": "stream",
     "text": [
      "                      feature  importance\n",
      "6                 cibil_score    0.818265\n",
      "5                   loan_term    0.058774\n",
      "4                 loan_amount    0.029360\n",
      "3                income_annum    0.017808\n",
      "8     commercial_assets_value    0.017162\n",
      "9         luxury_assets_value    0.017133\n",
      "7    residential_assets_value    0.016281\n",
      "10           bank_asset_value    0.013924\n",
      "0            no_of_dependents    0.007084\n",
      "1                   education    0.002256\n",
      "2               self_employed    0.001953\n"
     ]
    }
   ],
   "source": [
    "importances = rf.feature_importances_\n",
    "feature_importances = pd.DataFrame({'feature': x.columns, 'importance': importances})\n",
    "\n",
    "feature_importances = feature_importances.sort_values('importance', ascending=False)\n",
    "print(feature_importances)"
   ]
  }
 ],
 "metadata": {
  "kaggle": {
   "accelerator": "none",
   "dataSources": [
    {
     "datasetId": 3523739,
     "sourceId": 6144787,
     "sourceType": "datasetVersion"
    }
   ],
   "dockerImageVersionId": 30698,
   "isGpuEnabled": false,
   "isInternetEnabled": true,
   "language": "python",
   "sourceType": "notebook"
  },
  "kernelspec": {
   "display_name": "Python 3",
   "language": "python",
   "name": "python3"
  },
  "language_info": {
   "codemirror_mode": {
    "name": "ipython",
    "version": 3
   },
   "file_extension": ".py",
   "mimetype": "text/x-python",
   "name": "python",
   "nbconvert_exporter": "python",
   "pygments_lexer": "ipython3",
   "version": "3.10.13"
  },
  "papermill": {
   "default_parameters": {},
   "duration": 9.920676,
   "end_time": "2024-05-24T07:55:04.216915",
   "environment_variables": {},
   "exception": null,
   "input_path": "__notebook__.ipynb",
   "output_path": "__notebook__.ipynb",
   "parameters": {},
   "start_time": "2024-05-24T07:54:54.296239",
   "version": "2.5.0"
  }
 },
 "nbformat": 4,
 "nbformat_minor": 5
}
